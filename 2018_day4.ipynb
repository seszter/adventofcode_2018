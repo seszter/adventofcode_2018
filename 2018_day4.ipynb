{
 "cells": [
  {
   "cell_type": "code",
   "execution_count": 18,
   "metadata": {
    "collapsed": true
   },
   "outputs": [],
   "source": [
    "with open('2018_day4.txt') as f:\n",
    "    lines = [x.strip('\\n') for x in f.readlines()]"
   ]
  },
  {
   "cell_type": "code",
   "execution_count": 27,
   "metadata": {
    "collapsed": true
   },
   "outputs": [],
   "source": [
    "from collections import Counter"
   ]
  },
  {
   "cell_type": "markdown",
   "metadata": {},
   "source": [
    "### Part 1"
   ]
  },
  {
   "cell_type": "code",
   "execution_count": 45,
   "metadata": {},
   "outputs": [],
   "source": [
    "minutes = []\n",
    "guard_dict = {}\n",
    "for l in sorted(lines)[::-1]:\n",
    "    if 'wakes' in l:\n",
    "        w = int(l.split(':')[1].split(']')[0])\n",
    "    elif 'falls' in l:\n",
    "        f = int(l.split(':')[1].split(']')[0])\n",
    "        minutes += list(range(f,w))\n",
    "    elif 'Guard' in l:\n",
    "        guard = l.split('#')[1].split(' ')[0]\n",
    "        if guard in guard_dict:\n",
    "            guard_dict[guard] += minutes\n",
    "        else:\n",
    "            guard_dict[guard] = minutes\n",
    "        minutes = []"
   ]
  },
  {
   "cell_type": "code",
   "execution_count": 25,
   "metadata": {},
   "outputs": [],
   "source": [
    "asleep = []\n",
    "for k,v in guard_dict.items():\n",
    "    asleep.append((k, len(v)))"
   ]
  },
  {
   "cell_type": "code",
   "execution_count": 26,
   "metadata": {},
   "outputs": [
    {
     "data": {
      "text/plain": [
       "[('1847', 0),\n",
       " ('251', 0),\n",
       " ('3203', 0),\n",
       " ('2699', 118),\n",
       " ('401', 173),\n",
       " ('193', 196),\n",
       " ('1877', 205),\n",
       " ('2137', 218),\n",
       " ('1949', 236),\n",
       " ('2011', 239),\n",
       " ('2029', 243),\n",
       " ('3373', 262),\n",
       " ('2179', 266),\n",
       " ('509', 272),\n",
       " ('853', 275),\n",
       " ('2281', 295),\n",
       " ('2693', 301),\n",
       " ('1049', 306),\n",
       " ('379', 359),\n",
       " ('1973', 392),\n",
       " ('3529', 392),\n",
       " ('317', 443),\n",
       " ('641', 498)]"
      ]
     },
     "execution_count": 26,
     "metadata": {},
     "output_type": "execute_result"
    }
   ],
   "source": [
    "sorted(asleep,key=lambda x: x[1])"
   ]
  },
  {
   "cell_type": "code",
   "execution_count": 31,
   "metadata": {},
   "outputs": [
    {
     "data": {
      "text/plain": [
       "[(41, 15), (40, 14)]"
      ]
     },
     "execution_count": 31,
     "metadata": {},
     "output_type": "execute_result"
    }
   ],
   "source": [
    "Counter(guard_dict['641']).most_common(2)"
   ]
  },
  {
   "cell_type": "code",
   "execution_count": 32,
   "metadata": {},
   "outputs": [
    {
     "data": {
      "text/plain": [
       "26281"
      ]
     },
     "execution_count": 32,
     "metadata": {},
     "output_type": "execute_result"
    }
   ],
   "source": [
    "641*41"
   ]
  },
  {
   "cell_type": "markdown",
   "metadata": {},
   "source": [
    "### Part 2"
   ]
  },
  {
   "cell_type": "code",
   "execution_count": 47,
   "metadata": {},
   "outputs": [],
   "source": [
    "max_sleep = 0\n",
    "for k,v in guard_dict.items():\n",
    "    if len(v)>0:\n",
    "        if Counter(v).most_common(1)[0][1] > max_sleep:\n",
    "            max_sleep = Counter(v).most_common(1)[0][1]\n",
    "            m = Counter(v).most_common(1)[0][0]\n",
    "            g = k"
   ]
  },
  {
   "cell_type": "code",
   "execution_count": 48,
   "metadata": {},
   "outputs": [
    {
     "data": {
      "text/plain": [
       "('1973', 37, 18)"
      ]
     },
     "execution_count": 48,
     "metadata": {},
     "output_type": "execute_result"
    }
   ],
   "source": [
    "g, m, max_sleep"
   ]
  },
  {
   "cell_type": "code",
   "execution_count": 49,
   "metadata": {},
   "outputs": [
    {
     "data": {
      "text/plain": [
       "73001"
      ]
     },
     "execution_count": 49,
     "metadata": {},
     "output_type": "execute_result"
    }
   ],
   "source": [
    "1973*37"
   ]
  },
  {
   "cell_type": "code",
   "execution_count": null,
   "metadata": {
    "collapsed": true
   },
   "outputs": [],
   "source": []
  }
 ],
 "metadata": {
  "kernelspec": {
   "display_name": "Python 3",
   "language": "python",
   "name": "python3"
  },
  "language_info": {
   "codemirror_mode": {
    "name": "ipython",
    "version": 3
   },
   "file_extension": ".py",
   "mimetype": "text/x-python",
   "name": "python",
   "nbconvert_exporter": "python",
   "pygments_lexer": "ipython3",
   "version": "3.6.2"
  }
 },
 "nbformat": 4,
 "nbformat_minor": 2
}
