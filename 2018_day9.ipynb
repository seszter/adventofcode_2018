{
 "cells": [
  {
   "cell_type": "code",
   "execution_count": 97,
   "metadata": {
    "scrolled": true
   },
   "outputs": [],
   "source": [
    "from collections import deque"
   ]
  },
  {
   "cell_type": "markdown",
   "metadata": {},
   "source": [
    "### Part 1"
   ]
  },
  {
   "cell_type": "code",
   "execution_count": 95,
   "metadata": {},
   "outputs": [],
   "source": [
    "marbles = deque([0])\n",
    "current_pos = 0\n",
    "current_elf = 1\n",
    "elf_dict = {}\n",
    "\n",
    "num_players = 428\n",
    "num_marbles = 72061\n",
    "for i in range(1,num_marbles+1):\n",
    "    if i % 23 != 0:\n",
    "        marbles.rotate(-1)\n",
    "        marbles.append(i)\n",
    "    else:\n",
    "        if current_elf not in elf_dict:\n",
    "            elf_dict[current_elf] = 0\n",
    "        marbles.rotate(7)\n",
    "        elf_dict[current_elf] += (i + marbles.pop())\n",
    "    \n",
    "        marbles.rotate(-1)\n",
    "    current_elf = (current_elf + 1) % num_players"
   ]
  },
  {
   "cell_type": "code",
   "execution_count": 96,
   "metadata": {},
   "outputs": [
    {
     "data": {
      "text/plain": [
       "409832"
      ]
     },
     "execution_count": 96,
     "metadata": {},
     "output_type": "execute_result"
    }
   ],
   "source": [
    "max(elf_dict.values())"
   ]
  },
  {
   "cell_type": "markdown",
   "metadata": {},
   "source": [
    "### Part 2"
   ]
  },
  {
   "cell_type": "code",
   "execution_count": 98,
   "metadata": {
    "collapsed": true
   },
   "outputs": [],
   "source": [
    "marbles = deque([0])\n",
    "current_pos = 0\n",
    "current_elf = 1\n",
    "elf_dict = {}\n",
    "\n",
    "num_players = 428\n",
    "num_marbles = 7206100\n",
    "for i in range(1,num_marbles+1):\n",
    "    if i % 23 != 0:\n",
    "        marbles.rotate(-1)\n",
    "        marbles.append(i)\n",
    "    else:\n",
    "        if current_elf not in elf_dict:\n",
    "            elf_dict[current_elf] = 0\n",
    "        marbles.rotate(7)\n",
    "        elf_dict[current_elf] += (i + marbles.pop())\n",
    "    \n",
    "        marbles.rotate(-1)\n",
    "    current_elf = (current_elf + 1) % num_players"
   ]
  },
  {
   "cell_type": "code",
   "execution_count": 99,
   "metadata": {},
   "outputs": [
    {
     "data": {
      "text/plain": [
       "3469562780"
      ]
     },
     "execution_count": 99,
     "metadata": {},
     "output_type": "execute_result"
    }
   ],
   "source": [
    "max(elf_dict.values())"
   ]
  },
  {
   "cell_type": "code",
   "execution_count": null,
   "metadata": {
    "collapsed": true
   },
   "outputs": [],
   "source": []
  }
 ],
 "metadata": {
  "kernelspec": {
   "display_name": "Python 3",
   "language": "python",
   "name": "python3"
  },
  "language_info": {
   "codemirror_mode": {
    "name": "ipython",
    "version": 3
   },
   "file_extension": ".py",
   "mimetype": "text/x-python",
   "name": "python",
   "nbconvert_exporter": "python",
   "pygments_lexer": "ipython3",
   "version": "3.6.2"
  }
 },
 "nbformat": 4,
 "nbformat_minor": 2
}
