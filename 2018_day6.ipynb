{
 "cells": [
  {
   "cell_type": "code",
   "execution_count": 82,
   "metadata": {
    "collapsed": true
   },
   "outputs": [],
   "source": [
    "import numpy as np\n",
    "from itertools import product"
   ]
  },
  {
   "cell_type": "code",
   "execution_count": 176,
   "metadata": {
    "collapsed": true
   },
   "outputs": [],
   "source": [
    "coor_d = {}\n",
    "i = 1\n",
    "\n",
    "with open('2018_day6.txt') as f:\n",
    "    for l in f.readlines():\n",
    "        coor_d[i] = [int(x) for x in l.strip('\\n').split(', ')]\n",
    "        i += 1"
   ]
  },
  {
   "cell_type": "code",
   "execution_count": 166,
   "metadata": {},
   "outputs": [],
   "source": [
    "def mandist(x1,y1,x2,y2):\n",
    "    return (abs(x1-x2) + abs(y1-y2))"
   ]
  },
  {
   "cell_type": "code",
   "execution_count": 170,
   "metadata": {},
   "outputs": [],
   "source": [
    "a = 500\n",
    "space = np.zeros((a,a))\n",
    "infinites = []\n",
    "\n",
    "for i,j in product([x for x in range(a)],repeat=2):\n",
    "    temp_v = []\n",
    "    temp_k = []\n",
    "    for k,v in coor_d.items():\n",
    "        temp[mandist(i,j,v[1], v[0])] = k\n",
    "        temp_v.append(mandist(i,j,v[1], v[0]))\n",
    "        temp_k.append(k)\n",
    "    mins = [x for x in temp_v if x == min(temp_v)]\n",
    "\n",
    "    if len(mins) == 1:\n",
    "        space[i,j] = temp_k[temp_v.index(mins[0])]\n",
    "        if i in [0,a-1] or j in [0,a-1]:\n",
    "            infinites.append(temp_k[temp_v.index(mins[0])])\n"
   ]
  },
  {
   "cell_type": "code",
   "execution_count": 171,
   "metadata": {},
   "outputs": [
    {
     "data": {
      "text/plain": [
       "5626"
      ]
     },
     "execution_count": 171,
     "metadata": {},
     "output_type": "execute_result"
    }
   ],
   "source": [
    "maxarea = 0\n",
    "for c in coor_d.keys():\n",
    "    if c not in infinites and len(space[space==c]) > maxarea:\n",
    "        maxarea = len(space[space==c])\n",
    "maxarea"
   ]
  },
  {
   "cell_type": "markdown",
   "metadata": {},
   "source": [
    "### Part 2"
   ]
  },
  {
   "cell_type": "code",
   "execution_count": 177,
   "metadata": {},
   "outputs": [
    {
     "data": {
      "text/plain": [
       "46554"
      ]
     },
     "execution_count": 177,
     "metadata": {},
     "output_type": "execute_result"
    }
   ],
   "source": [
    "a = 500\n",
    "space = np.zeros((a,a))\n",
    "good_coords = 0\n",
    "\n",
    "for i,j in product([x for x in range(a)],repeat=2):\n",
    "    total_dist = 0\n",
    "    for k,v in coor_d.items():\n",
    "        total_dist += mandist(i,j,v[1], v[0])\n",
    "    if total_dist < 10000:\n",
    "        good_coords += 1\n",
    "good_coords"
   ]
  },
  {
   "cell_type": "code",
   "execution_count": null,
   "metadata": {
    "collapsed": true
   },
   "outputs": [],
   "source": []
  }
 ],
 "metadata": {
  "kernelspec": {
   "display_name": "Python 3",
   "language": "python",
   "name": "python3"
  },
  "language_info": {
   "codemirror_mode": {
    "name": "ipython",
    "version": 3
   },
   "file_extension": ".py",
   "mimetype": "text/x-python",
   "name": "python",
   "nbconvert_exporter": "python",
   "pygments_lexer": "ipython3",
   "version": "3.6.2"
  }
 },
 "nbformat": 4,
 "nbformat_minor": 2
}
