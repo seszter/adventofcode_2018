{
 "cells": [
  {
   "cell_type": "markdown",
   "metadata": {},
   "source": [
    "### Part 1"
   ]
  },
  {
   "cell_type": "code",
   "execution_count": 152,
   "metadata": {
    "collapsed": true
   },
   "outputs": [],
   "source": [
    "with open('2018_day8.txt') as f:\n",
    "    nums = [int(x) for x in f.read().strip('\\n').split()]"
   ]
  },
  {
   "cell_type": "code",
   "execution_count": 40,
   "metadata": {
    "collapsed": true
   },
   "outputs": [],
   "source": [
    "def find_node(nums):\n",
    "    node_start = nums.index(0)\n",
    "    num_meta = nums[node_start + 1]\n",
    "    metas = nums[node_start + 2: node_start + 2 + num_meta]\n",
    "    return metas, nums[:node_start] + ['c'] + nums[node_start + num_meta + 2:]"
   ]
  },
  {
   "cell_type": "code",
   "execution_count": 49,
   "metadata": {
    "collapsed": true
   },
   "outputs": [],
   "source": [
    "def remove_children(nums):\n",
    "    if len(nums) > 1:\n",
    "        ch_index = nums.index('c')\n",
    "        nums[ch_index - 2] -= 1\n",
    "        nums.remove('c')\n",
    "    return nums"
   ]
  },
  {
   "cell_type": "code",
   "execution_count": 67,
   "metadata": {},
   "outputs": [],
   "source": [
    "metas = []\n",
    "\n",
    "while len(nums) > 1:\n",
    "    new_metas, nums = find_node(nums)\n",
    "    metas += new_metas\n",
    "    #print(nums, metas)\n",
    "    nums = remove_children(nums)\n",
    "    #print(nums)"
   ]
  },
  {
   "cell_type": "code",
   "execution_count": 68,
   "metadata": {},
   "outputs": [
    {
     "data": {
      "text/plain": [
       "36891"
      ]
     },
     "execution_count": 68,
     "metadata": {},
     "output_type": "execute_result"
    }
   ],
   "source": [
    "sum(metas)"
   ]
  },
  {
   "cell_type": "markdown",
   "metadata": {},
   "source": [
    "### Part 2"
   ]
  },
  {
   "cell_type": "code",
   "execution_count": 260,
   "metadata": {},
   "outputs": [],
   "source": [
    "class Node:\n",
    "    def __init__(self, num_ch, num_meta):\n",
    "        self.num_ch = num_ch\n",
    "        self.num_meta = num_meta\n",
    "        self.metas = []\n",
    "        self.children = []\n",
    "    \n",
    "    def ch_need(self):\n",
    "        return self.num_ch - len(self.children)\n",
    "    \n",
    "    def get_num_meta(self):\n",
    "        return self.num_meta\n",
    "    \n",
    "    def give_metas(self,metalist):\n",
    "        self.metas = metalist\n",
    "        \n",
    "    def give_child(self,chNode):\n",
    "        self.children.append(chNode)\n",
    "        \n",
    "    def give_start_index(self,start_index):\n",
    "        self.start_index = start_index\n",
    "        \n",
    "    def get_start_index(self):\n",
    "        return self.start_index\n",
    "    \n",
    "    def calculate_metas(self):\n",
    "        m = 0\n",
    "        if self.num_ch == 0:\n",
    "            m = sum(self.metas)\n",
    "        else:\n",
    "            for chindex in self.metas:\n",
    "                if chindex <= len(self.children):\n",
    "                    m += self.children[chindex - 1].calculate_metas()\n",
    "        return m\n",
    "    "
   ]
  },
  {
   "cell_type": "code",
   "execution_count": 261,
   "metadata": {},
   "outputs": [],
   "source": [
    "\n",
    "with open('2018_day8.txt') as f:\n",
    "    nums = [int(x) for x in f.read().strip('\\n').split()]\n",
    "\n",
    "def find_node(nums):\n",
    "    node_start = nums.index(0)\n",
    "    num_meta = nums[node_start + 1]\n",
    "    newNode = Node(0, num_meta)\n",
    "    newNode.give_start_index(node_start)\n",
    "    metas = nums[node_start + 2: node_start + 2 + num_meta]\n",
    "    newNode.give_metas(metas)\n",
    "    return newNode, nums[:node_start] + [newNode] + nums[node_start + num_meta + 2:]\n",
    "\n",
    "def find_parent(nums, newNode):\n",
    "    #try:\n",
    "        if len([x for x in nums if type(x) == int]) > 1:\n",
    "            if type(nums[newNode.get_start_index() - 1]) == Node:\n",
    "                parentNode = nums[newNode.get_start_index() - 1]\n",
    "                parentNode.give_start_index(newNode.get_start_index() - 1)\n",
    "            else:\n",
    "                parentNode = Node(nums[newNode.get_start_index() - 2],nums[newNode.get_start_index() - 1])\n",
    "                parentNode.give_start_index(newNode.get_start_index() - 2)\n",
    "                nums = nums[:newNode.get_start_index() - 2] + [parentNode] + nums[newNode.get_start_index():]\n",
    "\n",
    "            nums.remove(newNode)\n",
    "            parentNode.give_child(newNode)\n",
    "            \n",
    "            if parentNode.ch_need() == 0:\n",
    "                parentNode.give_metas(nums[nums.index(parentNode) + 1: nums.index(parentNode) + 1 + parentNode.get_num_meta()])\n",
    "                return parentNode, nums[:parentNode.get_start_index()\n",
    "                                       ] + [parentNode\n",
    "                                           ] + nums[parentNode.get_start_index() + parentNode.get_num_meta() + 1:]\n",
    "            \n",
    "        return None, nums\n",
    "\n",
    "\n",
    "i = 0\n",
    "while len([x for x in nums if type(x) == int]) > 1:\n",
    "    if 0 in nums:\n",
    "        newNode, nums = find_node(nums)\n",
    "    else:\n",
    "        newNode = [x for x in nums if type(x) == Node][-1]\n",
    "        newNode.give_start_index(nums.index(newNode))\n",
    "    \n",
    "    while newNode != None:\n",
    "        newNode, nums = find_parent(nums, newNode)\n",
    "    \n",
    "\n",
    "        \n"
   ]
  },
  {
   "cell_type": "code",
   "execution_count": 262,
   "metadata": {},
   "outputs": [
    {
     "data": {
      "text/plain": [
       "20083"
      ]
     },
     "execution_count": 262,
     "metadata": {},
     "output_type": "execute_result"
    }
   ],
   "source": [
    "nums[0].calculate_metas()"
   ]
  },
  {
   "cell_type": "code",
   "execution_count": null,
   "metadata": {
    "collapsed": true
   },
   "outputs": [],
   "source": []
  }
 ],
 "metadata": {
  "kernelspec": {
   "display_name": "Python 3",
   "language": "python",
   "name": "python3"
  },
  "language_info": {
   "codemirror_mode": {
    "name": "ipython",
    "version": 3
   },
   "file_extension": ".py",
   "mimetype": "text/x-python",
   "name": "python",
   "nbconvert_exporter": "python",
   "pygments_lexer": "ipython3",
   "version": "3.6.2"
  }
 },
 "nbformat": 4,
 "nbformat_minor": 2
}
