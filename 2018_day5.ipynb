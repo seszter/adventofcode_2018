{
 "cells": [
  {
   "cell_type": "markdown",
   "metadata": {},
   "source": [
    "### Part 1"
   ]
  },
  {
   "cell_type": "code",
   "execution_count": 38,
   "metadata": {
    "collapsed": true
   },
   "outputs": [],
   "source": [
    "with open('2018_day5.txt') as f:\n",
    "    polymer = f.read().strip('\\n')"
   ]
  },
  {
   "cell_type": "code",
   "execution_count": 26,
   "metadata": {},
   "outputs": [],
   "source": [
    "\n",
    "def change_polymer(polymer):\n",
    "    for i in range(len(polymer)-1):\n",
    "        if polymer[i].lower() == polymer[i+1].lower() and polymer[i] != polymer[i+1]:\n",
    "            polymer = polymer[:i] + polymer[i+2:]\n",
    "            return polymer\n",
    "    return polymer\n",
    "\n",
    "changed = 1\n",
    "while changed > 0:\n",
    "    old_len = len(polymer)\n",
    "    polymer = change_polymer(polymer)\n",
    "    if old_len == len(polymer):\n",
    "        changed = 0\n",
    "        "
   ]
  },
  {
   "cell_type": "code",
   "execution_count": 27,
   "metadata": {},
   "outputs": [
    {
     "data": {
      "text/plain": [
       "9822"
      ]
     },
     "execution_count": 27,
     "metadata": {},
     "output_type": "execute_result"
    }
   ],
   "source": [
    "len(polymer)"
   ]
  },
  {
   "cell_type": "markdown",
   "metadata": {},
   "source": [
    "### Part 2"
   ]
  },
  {
   "cell_type": "code",
   "execution_count": 39,
   "metadata": {
    "collapsed": true
   },
   "outputs": [],
   "source": [
    "with open('2018_day5.txt') as f:\n",
    "    orig_polymer = f.read().strip('\\n')"
   ]
  },
  {
   "cell_type": "code",
   "execution_count": null,
   "metadata": {
    "collapsed": true
   },
   "outputs": [],
   "source": [
    "\n",
    "\n",
    "def change_polymer(polymer):\n",
    "    for i in range(len(polymer)-1):\n",
    "        if polymer[i].lower() == polymer[i+1].lower() and polymer[i] != polymer[i+1]:\n",
    "            polymer = polymer[:i] + polymer[i+2:]\n",
    "            return polymer\n",
    "    return polymer\n",
    "\n",
    "\n",
    "result_dict = {}\n",
    "for char in set(orig_polymer.lower()):\n",
    "    polymer= re.sub(\"{}|{}\".format(char, char.upper()), \"\", orig_polymer)\n",
    "    changed = 1\n",
    "    while changed > 0:\n",
    "        old_len = len(polymer)\n",
    "        polymer = change_polymer(polymer)\n",
    "        if old_len == len(polymer):\n",
    "            changed = 0\n",
    "    result_dict[char] = len(polymer)"
   ]
  },
  {
   "cell_type": "code",
   "execution_count": null,
   "metadata": {},
   "outputs": [],
   "source": [
    "result_dict"
   ]
  },
  {
   "cell_type": "code",
   "execution_count": null,
   "metadata": {
    "collapsed": true
   },
   "outputs": [],
   "source": []
  }
 ],
 "metadata": {
  "kernelspec": {
   "display_name": "Python 3",
   "language": "python",
   "name": "python3"
  },
  "language_info": {
   "codemirror_mode": {
    "name": "ipython",
    "version": 3
   },
   "file_extension": ".py",
   "mimetype": "text/x-python",
   "name": "python",
   "nbconvert_exporter": "python",
   "pygments_lexer": "ipython3",
   "version": "3.6.2"
  }
 },
 "nbformat": 4,
 "nbformat_minor": 2
}
