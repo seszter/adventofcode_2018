{
 "cells": [
  {
   "cell_type": "code",
   "execution_count": 1,
   "metadata": {},
   "outputs": [],
   "source": [
    "import numpy as np"
   ]
  },
  {
   "cell_type": "code",
   "execution_count": 2,
   "metadata": {},
   "outputs": [],
   "source": [
    "def get_power(x,y, sernum):\n",
    "    rackid = x + 10\n",
    "    return int(((rackid * y + sernum) * rackid) / 100 % 10 ) - 5"
   ]
  },
  {
   "cell_type": "code",
   "execution_count": 40,
   "metadata": {},
   "outputs": [],
   "source": [
    "sernum = 7315"
   ]
  },
  {
   "cell_type": "code",
   "execution_count": 158,
   "metadata": {},
   "outputs": [],
   "source": [
    "maxpower = 0\n",
    "\n",
    "temp = 0\n",
    "for x in range(1,298):\n",
    "    for y in range(1,298):\n",
    "        for j in range(3):\n",
    "            for i in range(3):\n",
    "                temp += get_power(x+i,y+j,sernum)\n",
    "        if temp > maxpower:\n",
    "            maxpower = temp\n",
    "            maxpower_coords = (x,y)\n",
    "        temp = 0"
   ]
  },
  {
   "cell_type": "code",
   "execution_count": 156,
   "metadata": {},
   "outputs": [
    {
     "data": {
      "text/plain": [
       "(30, (21, 72))"
      ]
     },
     "execution_count": 156,
     "metadata": {},
     "output_type": "execute_result"
    }
   ],
   "source": [
    "maxpower, maxpower_coords"
   ]
  },
  {
   "cell_type": "markdown",
   "metadata": {},
   "source": [
    "### Part 2"
   ]
  },
  {
   "cell_type": "code",
   "execution_count": 71,
   "metadata": {},
   "outputs": [],
   "source": [
    "def get_power(x,y, sernum=7315):#7315):\n",
    "    rackid = x + 10\n",
    "    return (((rackid * y + sernum) * rackid)//100 % 10) - 5"
   ]
  },
  {
   "cell_type": "code",
   "execution_count": 72,
   "metadata": {},
   "outputs": [],
   "source": [
    "grid = np.fromfunction(get_power, (300,300))"
   ]
  },
  {
   "cell_type": "code",
   "execution_count": 76,
   "metadata": {
    "scrolled": false
   },
   "outputs": [
    {
     "name": "stdout",
     "output_type": "stream",
     "text": [
      "60.0 (242, 138, 6)\n",
      "74.0 (242, 15, 7)\n",
      "69.0 (242, 136, 8)\n",
      "81.0 (242, 13, 9)\n",
      "71.0 (242, 17, 10)\n",
      "80.0 (242, 13, 11)\n",
      "73.0 (242, 13, 12)\n",
      "73.0 (242, 13, 13)\n"
     ]
    }
   ],
   "source": [
    "for k in range(6,14):\n",
    "    maxpower = 0\n",
    "    temp = 0\n",
    "    for x in range(1,300):\n",
    "        for y in range(1,300):\n",
    "            if x+k <= 300 and y+k <= 300:\n",
    "                for j in range(k):\n",
    "                    for i in range(k):\n",
    "                        temp += grid[x+i,y+j]\n",
    "                if temp >= maxpower:\n",
    "                    maxpower = temp\n",
    "                    maxpower_coords = (x,y,k)\n",
    "                    \n",
    "                temp = 0\n",
    "    print(maxpower, maxpower_coords)"
   ]
  },
  {
   "cell_type": "code",
   "execution_count": null,
   "metadata": {},
   "outputs": [],
   "source": []
  }
 ],
 "metadata": {
  "kernelspec": {
   "display_name": "Python 3",
   "language": "python",
   "name": "python3"
  },
  "language_info": {
   "codemirror_mode": {
    "name": "ipython",
    "version": 3
   },
   "file_extension": ".py",
   "mimetype": "text/x-python",
   "name": "python",
   "nbconvert_exporter": "python",
   "pygments_lexer": "ipython3",
   "version": "3.7.3"
  }
 },
 "nbformat": 4,
 "nbformat_minor": 2
}
