{
 "cells": [
  {
   "cell_type": "code",
   "execution_count": 24,
   "metadata": {
    "collapsed": true
   },
   "outputs": [],
   "source": [
    "steps = [\n",
    "'Step C must be finished before step A can begin.',\n",
    "'Step C must be finished before step F can begin.',\n",
    "'Step A must be finished before step B can begin.',\n",
    "'Step A must be finished before step D can begin.',\n",
    "'Step B must be finished before step E can begin.',\n",
    "'Step D must be finished before step E can begin.',\n",
    "'Step F must be finished before step E can begin.'   \n",
    "    \n",
    "]"
   ]
  },
  {
   "cell_type": "code",
   "execution_count": 17,
   "metadata": {
    "collapsed": true
   },
   "outputs": [],
   "source": [
    "with open('2018_day7.txt') as f:\n",
    "    steps = [x.strip('\\n') for x in f.readlines()]"
   ]
  },
  {
   "cell_type": "code",
   "execution_count": 40,
   "metadata": {
    "collapsed": true
   },
   "outputs": [],
   "source": [
    "step_dict = {}\n",
    "for s in steps:\n",
    "    later_step = s.split(' ')[7]\n",
    "    before_step = s.split(' ')[1]\n",
    "    if later_step not in step_dict:\n",
    "        step_dict[later_step] = [before_step]\n",
    "    else:\n",
    "        step_dict[later_step].append(before_step)\n",
    "    if before_step not in step_dict:\n",
    "        step_dict[before_step] = []"
   ]
  },
  {
   "cell_type": "code",
   "execution_count": 19,
   "metadata": {},
   "outputs": [
    {
     "data": {
      "text/plain": [
       "{'A': ['J', 'B'],\n",
       " 'B': ['E'],\n",
       " 'C': ['I'],\n",
       " 'D': ['K', 'V', 'B', 'Q', 'R', 'Z'],\n",
       " 'E': [],\n",
       " 'F': ['G', 'X', 'P', 'A', 'I', 'V', 'M', 'Y'],\n",
       " 'G': ['I'],\n",
       " 'H': ['N', 'L', 'P', 'V', 'S', 'X', 'E', 'U', 'F', 'R', 'I'],\n",
       " 'I': [],\n",
       " 'J': ['Z', 'E'],\n",
       " 'K': ['C'],\n",
       " 'L': ['Q', 'M', 'S', 'T', 'N', 'U', 'J', 'P', 'O', 'A', 'V'],\n",
       " 'M': ['O', 'V'],\n",
       " 'N': ['Z', 'X', 'F', 'U', 'K', 'E', 'J', 'V', 'T', 'B'],\n",
       " 'O': ['Q', 'C'],\n",
       " 'P': ['C', 'W', 'A', 'M', 'J', 'E', 'R', 'I'],\n",
       " 'Q': ['B', 'G'],\n",
       " 'R': ['W'],\n",
       " 'S': ['R', 'X', 'P', 'F', 'V', 'D', 'O', 'Z'],\n",
       " 'T': ['Y', 'P', 'Z', 'R', 'D', 'I', 'E', 'F', 'U', 'V', 'S'],\n",
       " 'U': ['R', 'V', 'K', 'F', 'Y', 'Q', 'M', 'B'],\n",
       " 'V': [],\n",
       " 'W': ['J', 'C'],\n",
       " 'X': ['D', 'E'],\n",
       " 'Y': ['E'],\n",
       " 'Z': []}"
      ]
     },
     "execution_count": 19,
     "metadata": {},
     "output_type": "execute_result"
    }
   ],
   "source": [
    "step_dict"
   ]
  },
  {
   "cell_type": "code",
   "execution_count": 39,
   "metadata": {},
   "outputs": [],
   "source": [
    "step_order = []\n",
    "while len(step_dict) > 0:\n",
    "    next_step = sorted([x[0] for x in step_dict.items() if len(x[1]) == 0])[0]\n",
    "    step_order.append(next_step)\n",
    "    del step_dict[next_step]\n",
    "    for k in step_dict.keys():\n",
    "        if next_step in step_dict[k]:\n",
    "            step_dict[k].remove(next_step)"
   ]
  },
  {
   "cell_type": "code",
   "execution_count": 22,
   "metadata": {},
   "outputs": [
    {
     "data": {
      "text/plain": [
       "'EBICGKQOVMYZJAWRDPXFSUTNLH'"
      ]
     },
     "execution_count": 22,
     "metadata": {},
     "output_type": "execute_result"
    }
   ],
   "source": [
    "''.join(step_order)"
   ]
  },
  {
   "cell_type": "markdown",
   "metadata": {},
   "source": [
    "### Part 2"
   ]
  },
  {
   "cell_type": "code",
   "execution_count": 83,
   "metadata": {
    "collapsed": true
   },
   "outputs": [],
   "source": [
    "with open('2018_day7.txt') as f:\n",
    "    steps = [x.strip('\\n') for x in f.readlines()]"
   ]
  },
  {
   "cell_type": "code",
   "execution_count": 87,
   "metadata": {},
   "outputs": [],
   "source": [
    "step_dict = {}\n",
    "for s in steps:\n",
    "    later_step = s.split(' ')[7]\n",
    "    before_step = s.split(' ')[1]\n",
    "    if later_step not in step_dict:\n",
    "        step_dict[later_step] = [before_step]\n",
    "    else:\n",
    "        step_dict[later_step].append(before_step)\n",
    "    if before_step not in step_dict:\n",
    "        step_dict[before_step] = []\n",
    "\n",
    "time_dict = {}\n",
    "i = 61\n",
    "for key in sorted(step_dict.keys()):\n",
    "    time_dict[key] = i\n",
    "    i += 1\n",
    "\n",
    "workers = {1:'',2:'',3:'',4:'',5:''}\n",
    "\n",
    "\n",
    "j = 0\n",
    "while len(step_dict) > 0:\n",
    "    next_steps = [x[0] for x in step_dict.items() if len(x[1]) == 0]\n",
    "    next_steps_ordered = [y[0] for y in\n",
    "                          sorted(time_dict.items(), key=lambda x: x[1], reverse=True)\n",
    "                          if y[0] in next_steps and y[0] not in workers.values()]\n",
    "    for w in workers.keys():\n",
    "        if workers[w] == '':\n",
    "            if len(next_steps_ordered) > 0:\n",
    "                workers[w] = next_steps_ordered[0]\n",
    "                next_steps_ordered = next_steps_ordered[1:]\n",
    "        \n",
    "        if workers[w] != '':\n",
    "            time_dict[workers[w]] -= 1\n",
    "            if time_dict[workers[w]] == 0:\n",
    "                del step_dict[workers[w]]\n",
    "                for k in step_dict.keys():\n",
    "                    if workers[w] in step_dict[k]:\n",
    "                        step_dict[k].remove(workers[w])\n",
    "                workers[w] = ''\n",
    "    j += 1"
   ]
  },
  {
   "cell_type": "code",
   "execution_count": 88,
   "metadata": {},
   "outputs": [
    {
     "data": {
      "text/plain": [
       "906"
      ]
     },
     "execution_count": 88,
     "metadata": {},
     "output_type": "execute_result"
    }
   ],
   "source": [
    "j"
   ]
  },
  {
   "cell_type": "code",
   "execution_count": null,
   "metadata": {
    "collapsed": true
   },
   "outputs": [],
   "source": []
  }
 ],
 "metadata": {
  "kernelspec": {
   "display_name": "Python 3",
   "language": "python",
   "name": "python3"
  },
  "language_info": {
   "codemirror_mode": {
    "name": "ipython",
    "version": 3
   },
   "file_extension": ".py",
   "mimetype": "text/x-python",
   "name": "python",
   "nbconvert_exporter": "python",
   "pygments_lexer": "ipython3",
   "version": "3.6.2"
  }
 },
 "nbformat": 4,
 "nbformat_minor": 2
}
