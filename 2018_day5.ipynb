{
 "cells": [
  {
   "cell_type": "markdown",
   "metadata": {},
   "source": [
    "### Part 1"
   ]
  },
  {
   "cell_type": "code",
   "execution_count": 38,
   "metadata": {
    "collapsed": true
   },
   "outputs": [],
   "source": [
    "with open('2018_day5.txt') as f:\n",
    "    polymer = f.read().strip('\\n')"
   ]
  },
  {
   "cell_type": "code",
   "execution_count": 26,
   "metadata": {},
   "outputs": [],
   "source": [
    "\n",
    "def change_polymer(polymer):\n",
    "    for i in range(len(polymer)-1):\n",
    "        if polymer[i].lower() == polymer[i+1].lower() and polymer[i] != polymer[i+1]:\n",
    "            polymer = polymer[:i] + polymer[i+2:]\n",
    "            return polymer\n",
    "    return polymer\n",
    "\n",
    "changed = 1\n",
    "while changed > 0:\n",
    "    old_len = len(polymer)\n",
    "    polymer = change_polymer(polymer)\n",
    "    if old_len == len(polymer):\n",
    "        changed = 0\n",
    "        "
   ]
  },
  {
   "cell_type": "code",
   "execution_count": 27,
   "metadata": {},
   "outputs": [
    {
     "data": {
      "text/plain": [
       "9822"
      ]
     },
     "execution_count": 27,
     "metadata": {},
     "output_type": "execute_result"
    }
   ],
   "source": [
    "len(polymer)"
   ]
  },
  {
   "cell_type": "markdown",
   "metadata": {},
   "source": [
    "### Part 2"
   ]
  },
  {
   "cell_type": "code",
   "execution_count": 39,
   "metadata": {
    "collapsed": true
   },
   "outputs": [],
   "source": [
    "with open('2018_day5.txt') as f:\n",
    "    orig_polymer = f.read().strip('\\n')"
   ]
  },
  {
   "cell_type": "code",
   "execution_count": 40,
   "metadata": {
    "collapsed": true
   },
   "outputs": [],
   "source": [
    "\n",
    "\n",
    "def change_polymer(polymer):\n",
    "    for i in range(len(polymer)-1):\n",
    "        if polymer[i].lower() == polymer[i+1].lower() and polymer[i] != polymer[i+1]:\n",
    "            polymer = polymer[:i] + polymer[i+2:]\n",
    "            return polymer\n",
    "    return polymer\n",
    "\n",
    "\n",
    "result_dict = {}\n",
    "for char in set(orig_polymer.lower()):\n",
    "    polymer= re.sub(\"{}|{}\".format(char, char.upper()), \"\", orig_polymer)\n",
    "    changed = 1\n",
    "    while changed > 0:\n",
    "        old_len = len(polymer)\n",
    "        polymer = change_polymer(polymer)\n",
    "        if old_len == len(polymer):\n",
    "            changed = 0\n",
    "    result_dict[char] = len(polymer)"
   ]
  },
  {
   "cell_type": "code",
   "execution_count": 41,
   "metadata": {},
   "outputs": [
    {
     "data": {
      "text/plain": [
       "{'a': 9438,\n",
       " 'b': 9442,\n",
       " 'c': 9434,\n",
       " 'd': 9416,\n",
       " 'e': 9452,\n",
       " 'f': 9452,\n",
       " 'g': 9416,\n",
       " 'h': 9410,\n",
       " 'i': 9426,\n",
       " 'j': 9418,\n",
       " 'k': 9408,\n",
       " 'l': 9432,\n",
       " 'm': 9420,\n",
       " 'n': 9422,\n",
       " 'o': 9390,\n",
       " 'p': 9396,\n",
       " 'q': 9466,\n",
       " 'r': 9398,\n",
       " 's': 5726,\n",
       " 't': 9486,\n",
       " 'u': 9444,\n",
       " 'v': 9428,\n",
       " 'w': 9438,\n",
       " 'x': 9424,\n",
       " 'y': 9462,\n",
       " 'z': 9440}"
      ]
     },
     "execution_count": 41,
     "metadata": {},
     "output_type": "execute_result"
    }
   ],
   "source": [
    "result_dict"
   ]
  },
  {
   "cell_type": "code",
   "execution_count": null,
   "metadata": {
    "collapsed": true
   },
   "outputs": [],
   "source": []
  }
 ],
 "metadata": {
  "kernelspec": {
   "display_name": "Python 3",
   "language": "python",
   "name": "python3"
  },
  "language_info": {
   "codemirror_mode": {
    "name": "ipython",
    "version": 3
   },
   "file_extension": ".py",
   "mimetype": "text/x-python",
   "name": "python",
   "nbconvert_exporter": "python",
   "pygments_lexer": "ipython3",
   "version": "3.6.2"
  }
 },
 "nbformat": 4,
 "nbformat_minor": 2
}
